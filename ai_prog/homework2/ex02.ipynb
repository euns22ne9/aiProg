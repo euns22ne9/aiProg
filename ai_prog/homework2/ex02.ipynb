{
 "cells": [
  {
   "cell_type": "code",
   "execution_count": 1,
   "id": "12fd1678",
   "metadata": {},
   "outputs": [
    {
     "name": "stdout",
     "output_type": "stream",
     "text": [
      "리스트 내용 :  [4, 5, 7, 12, 23, 28, 34, 46, 78]\n",
      "찾을 숫자 : 12\n",
      "반복 회차 : **** -  4\n",
      "bSearch(lst, 12) : 3\n",
      "lst[3] :  12\n"
     ]
    }
   ],
   "source": [
    "# 배열을 만든다.\n",
    "lst = [4, 5, 7, 12, 23, 28, 34, 46, 78]\n",
    "\n",
    "def bSearch(noList, searchNo):\n",
    "    # 리스트 정렬하기\n",
    "    noList.sort()\n",
    "    # 결과값 변수 선언 및 초기화\n",
    "    result = None\n",
    "    # 검색 시작 인덱스 변수 선언 및 초기화\n",
    "    startIdx = 0\n",
    "    # 검색 종료 인뎃스 변수 선언 및 초기화\n",
    "    endIdx = len(noList) - 1\n",
    "    \n",
    "    # 검색 횟수 변수 선언 및 초기화\n",
    "    cnt = 1\n",
    "    \n",
    "    print('반복 회차 : ', end='')\n",
    "    # 반복 탐색\n",
    "    while True :\n",
    "        # 반복 회차 출력\n",
    "        print('*', end='')\n",
    "        \n",
    "        # 중간값 변수 생성 및 초기화\n",
    "        midIdx = (startIdx + endIdx) // 2\n",
    "\n",
    "        # 조건 처리\n",
    "        if startIdx > endIdx:\n",
    "            # 탐색 시작 인덱스가 종료 인덱스보다 큰경우 ==> 리스트에 데이터가 없는 경우\n",
    "            result = '*** 없는 데이터 입니다. ***'\n",
    "            break\n",
    "        elif noList[midIdx] == searchNo :\n",
    "            # 데이터를 찾은 경우\n",
    "            result =  midIdx\n",
    "            break\n",
    "        elif noList[midIdx] > searchNo:\n",
    "            # 꺼낸 데이터가 찾는 데어터보다 큰 경우\n",
    "            endIdx = midIdx - 1\n",
    "        elif noList[midIdx] < searchNo:\n",
    "            # 꺼낸 데이터가 찾는 데이터보다 작은 경우\n",
    "            startIdx = midIdx + 1\n",
    "        \n",
    "        # 반복 회차 1 누적\n",
    "        cnt = cnt + 1\n",
    "        \n",
    "    # 반복 회차 출력\n",
    "    print(' - ', cnt)\n",
    "    # 결과 값 반환\n",
    "    return result\n",
    "\n",
    "# 리스트 내용 출력\n",
    "print('리스트 내용 : ', lst)\n",
    "# 찾을 숫자 입력받아 변수에 기억\n",
    "no = int(input('찾을 숫자 : '))\n",
    "# 함수 호출해서 찾을 숫자의 위치값 탐색\n",
    "result = bSearch(lst, no)\n",
    "\n",
    "if isinstance(result, str):\n",
    "    # 결과값이 문자열인 경우(result에 '*** 없는 데이터 입니다. ***' 가 입력된 경우)\n",
    "    print('bSearch(lst, ' + str(no) + ') :', result)\n",
    "else:\n",
    "    # 결과값이 문자열이 아닌경우(정상적으로 탐색에 성공해서 인덱스를 기억하는 경우)\n",
    "    print('bSearch(lst, '+ str(no) +') :', result)\n",
    "    # 함수 호출 결과로 데이터 출력\n",
    "    print('lst[' + str(result) + '] : ', lst[result])\n"
   ]
  }
 ],
 "metadata": {
  "kernelspec": {
   "display_name": "Python 3 (ipykernel)",
   "language": "python",
   "name": "python3"
  },
  "language_info": {
   "codemirror_mode": {
    "name": "ipython",
    "version": 3
   },
   "file_extension": ".py",
   "mimetype": "text/x-python",
   "name": "python",
   "nbconvert_exporter": "python",
   "pygments_lexer": "ipython3",
   "version": "3.9.13"
  }
 },
 "nbformat": 4,
 "nbformat_minor": 5
}
