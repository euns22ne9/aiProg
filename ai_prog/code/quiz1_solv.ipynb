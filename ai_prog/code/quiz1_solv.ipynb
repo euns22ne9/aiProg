{
 "cells": [
  {
   "cell_type": "code",
   "execution_count": 7,
   "id": "23ac6381",
   "metadata": {},
   "outputs": [
    {
     "name": "stdout",
     "output_type": "stream",
     "text": [
      "1 2 3 5 8\n"
     ]
    }
   ],
   "source": [
    "def func(n):\n",
    "    a = 1\n",
    "    b = 1\n",
    "    if n == 1 or n == 2:\n",
    "        return 1\n",
    "    for i in range(1, n):\n",
    "        a, b = b, b + a\n",
    "        print(a, end=' ')\n",
    "    print(b)\n",
    "    \n",
    "func(5)"
   ]
  },
  {
   "cell_type": "code",
   "execution_count": 1,
   "id": "e0b80512",
   "metadata": {},
   "outputs": [
    {
     "name": "stdout",
     "output_type": "stream",
     "text": [
      "************\n",
      " **********\n",
      "  ********\n",
      "   ******\n",
      "    ****\n",
      "     **\n"
     ]
    }
   ],
   "source": [
    "num_of_asterisk = 12\n",
    "num_of_space = 0\n",
    "while num_of_asterisk >= 2:\n",
    "    for i in range(num_of_space):\n",
    "        print(' ', end='')\n",
    "    for i in range(num_of_asterisk):\n",
    "        print('*', end='')\n",
    "    print('', end='\\n')\n",
    "    num_of_asterisk = num_of_asterisk - 2\n",
    "    num_of_space = num_of_space + 1"
   ]
  },
  {
   "cell_type": "markdown",
   "id": "c02be8c7",
   "metadata": {},
   "source": [
    "## 1번 프로그램을 함수 형태로 작성하세요. \n",
    "\n",
    "답안은 완전한 프로그램으로 작성되어야 합니다.  들여쓰기는 공백(space) 을 사용하세요(탭tab키 사용 불가)\n",
    "\n",
    "calling 형태 : prtLine(num_of_space, num_of_asterisk)"
   ]
  },
  {
   "cell_type": "code",
   "execution_count": 2,
   "id": "7ff0af8c",
   "metadata": {},
   "outputs": [
    {
     "name": "stdout",
     "output_type": "stream",
     "text": [
      "************\n",
      " **********\n",
      "  ********\n",
      "   ******\n",
      "    ****\n",
      "     **\n"
     ]
    }
   ],
   "source": [
    "def prtLine(num_of_space, num_of_asterisk):\n",
    "    while num_of_asterisk >= 2:\n",
    "        for i in range(num_of_space):\n",
    "            print(' ', end='')\n",
    "        for i in range(num_of_asterisk):\n",
    "            print('*', end='')\n",
    "        print('', end='\\n')\n",
    "        num_of_asterisk = num_of_asterisk - 2\n",
    "        num_of_space = num_of_space + 1\n",
    "\n",
    "num_of_asterisk = 12\n",
    "num_of_space = 0\n",
    "prtLine(num_of_space, num_of_asterisk)"
   ]
  },
  {
   "cell_type": "markdown",
   "id": "cabb2693",
   "metadata": {},
   "source": [
    "그림은 유클리드 호제법으로 두 수(a와 b)의 최대공약수(GCD = Greatest Common Divisor)를 구하는 과정을 나타낸 것입니다. \n",
    "최소공배수 = a * b / 최대공약수 입니다.\n",
    "\n",
    "\n",
    "문제:\n",
    "\n",
    "두 수를 입력받아 최대공약수, 최소공배수를 구하는 \n",
    "파이썬 프로그램(들여쓰기 안 됨)을 완성하시오. \n",
    "\n",
    "답안은 완전한 프로그램으로 작성되어야 합니다. \n",
    "들여쓰기는 공백(space)을 사용하세요(탭tab키 사용 불가)"
   ]
  },
  {
   "cell_type": "code",
   "execution_count": 6,
   "id": "70e67f5f",
   "metadata": {},
   "outputs": [
    {
     "name": "stdout",
     "output_type": "stream",
     "text": [
      "첫 번째 수를 입력하시오12\n",
      "두 번째 수를 입력하시오24\n",
      "최대공약수 : 12\n",
      "최소공배수 : 24.0\n"
     ]
    }
   ],
   "source": [
    "def gcd(a, b):\n",
    "    tmp = 0\n",
    "    while b > 0:\n",
    "        '''\n",
    "        tmp = a\n",
    "        a = b\n",
    "        b = tmp % b\n",
    "        '''\n",
    "        \n",
    "        if a > b: a, b = b, a\n",
    "        tmp = a\n",
    "        b, a = a, b % a\n",
    "        if a == 0:\n",
    "            return tmp\n",
    "\n",
    "def lcm(a, b):\n",
    "    return a*b/gcd(a, b)\n",
    "\n",
    "a = int(input('첫 번째 수를 입력하시오'))\n",
    "b = int(input('두 번째 수를 입력하시오'))\n",
    "print('최대공약수 :', gcd(a, b))\n",
    "print('최소공배수 :', lcm(a, b))"
   ]
  },
  {
   "cell_type": "markdown",
   "id": "45070c26",
   "metadata": {},
   "source": [
    "다음의 피보나찌 수열을 출력하는 프로그램을 재귀 호출 방법을 사용하여 작성하시오.\n",
    "\n",
    "함수명 : fib  => n차 피보나찌 수열 계산"
   ]
  },
  {
   "cell_type": "code",
   "execution_count": 4,
   "id": "ed9b1cb2",
   "metadata": {},
   "outputs": [
    {
     "name": "stdout",
     "output_type": "stream",
     "text": [
      "1, 1, 2, 3, 5, 8, 13, 21, 34, 55, "
     ]
    }
   ],
   "source": [
    "def fib(n):\n",
    "    if n <= 1:\n",
    "        return 1\n",
    "    return fib(n - 2) + fib(n - 1)\n",
    "\n",
    "for i in range(10):\n",
    "    print(fib(i), end=', ')"
   ]
  }
 ],
 "metadata": {
  "kernelspec": {
   "display_name": "Python 3 (ipykernel)",
   "language": "python",
   "name": "python3"
  },
  "language_info": {
   "codemirror_mode": {
    "name": "ipython",
    "version": 3
   },
   "file_extension": ".py",
   "mimetype": "text/x-python",
   "name": "python",
   "nbconvert_exporter": "python",
   "pygments_lexer": "ipython3",
   "version": "3.9.15"
  }
 },
 "nbformat": 4,
 "nbformat_minor": 5
}
