{
 "cells": [
  {
   "cell_type": "code",
   "execution_count": null,
   "id": "987c5220",
   "metadata": {},
   "outputs": [],
   "source": [
    "nameHandle = open('kids', 'w') # kids 파일을 \"쓰기모드\"로 열어서 nameHandle 변수에 기억\n",
    "\n",
    "for i in range(2):\n",
    "    name = input('Enter name : ')\n",
    "    nameHandle.write(name + '\\n')\n",
    "nameHandle.close()\n",
    "\n",
    "\n",
    "names = ''\n",
    "# 읽어서 기억하기\n",
    "with open('kids', 'r') as nameHandle:\n",
    "    for line in nameHandle:\n",
    "        names += line\n",
    "\n",
    "nameHandle = open('kids', 'w')\n",
    "nameHandle.write(names)\n",
    "nameHandle.write('Michael\\n')\n",
    "nameHandle.write('Mark\\n')\n",
    "nameHandle.close()\n",
    "\n",
    "print()\n",
    "nameHandle = open('kids', 'r')\n",
    "for line in nameHandle:\n",
    "    print(line[:-1])\n",
    "\n",
    "nameHandle.close()\n"
   ]
  },
  {
   "cell_type": "code",
   "execution_count": null,
   "id": "420ccd26",
   "metadata": {},
   "outputs": [],
   "source": [
    "from circle import *\n",
    "\n",
    "rad = int(input('원의 반지름 : '))\n",
    "print('pi   :', pi)\n",
    "print('반지름 :', rad, '\\n넓  이 :', area(rad))\n",
    "print('둘  레 :', circumference(rad))\n",
    "print('표면적 :', sphereSurface(rad))\n",
    "print('체  적 :', sphereVolume(rad))"
   ]
  },
  {
   "cell_type": "markdown",
   "id": "3be8b234",
   "metadata": {},
   "source": [
    "\n",
    "\n",
    "\n",
    "\n",
    "\n",
    "\n",
    "\n",
    "\n",
    "\n",
    "\n",
    "\n",
    "\n",
    "\n",
    "## 파일\n",
    "박은진 교수님"
   ]
  },
  {
   "cell_type": "code",
   "execution_count": null,
   "id": "3f63974e",
   "metadata": {
    "scrolled": true
   },
   "outputs": [],
   "source": [
    "\"\"\"\n",
    "nameHandle = open('buddy', 'w')\n",
    "# print('type(nameHandle) :', type(nameHandle)) # <class '_io.TextIOWrapper'>\n",
    "\n",
    "for i in range(2):\n",
    "    name = input('Enter Name : ')\n",
    "    nameHandle.write(name + '\\n')\n",
    "nameHandle.close()\n",
    "\n",
    "\"\"\"\n",
    "\n",
    "print()\n",
    "names = ''\n",
    "with open('buddy', 'r') as nameHandle:\n",
    "    for name in nameHandle:\n",
    "        #print(name, end='')\n",
    "        names += name\n",
    "\n",
    "print(names)"
   ]
  },
  {
   "cell_type": "code",
   "execution_count": null,
   "id": "e6927003",
   "metadata": {},
   "outputs": [],
   "source": [
    "with open('buddy', 'r') as nameHandle:\n",
    "    for name in nameHandle:\n",
    "        for ch in name:\n",
    "            print(ch, end=' | ')\n"
   ]
  },
  {
   "cell_type": "code",
   "execution_count": null,
   "id": "14acf6a2",
   "metadata": {},
   "outputs": [],
   "source": [
    "with open('circle.py', 'r') as sCode:\n",
    "    for line in sCode:\n",
    "        print(line, end='')\n"
   ]
  },
  {
   "cell_type": "code",
   "execution_count": null,
   "id": "a668ebee",
   "metadata": {},
   "outputs": [],
   "source": [
    "#import random\n",
    "from random import *\n",
    "\n",
    "set1 = set()\n",
    "for i in range(10):\n",
    "    set1.add(randint(1, 10))\n",
    "\n",
    "for no in set1:\n",
    "    print(no, end=' - ')"
   ]
  },
  {
   "cell_type": "code",
   "execution_count": null,
   "id": "4e83bd37",
   "metadata": {},
   "outputs": [],
   "source": [
    "won = '''\n",
    "pi = 3.14159\n",
    "\n",
    "def getArea(rad):\n",
    "    return pi * (rad**2)\n",
    "\n",
    "def getArround(rad):\n",
    "    return 2 * rad * pi\n",
    "\n",
    "def getSuf(rad):\n",
    "    return 4.0 * getArea(rad)\n",
    "\n",
    "def getVol(rad):\n",
    "    return (4.0 / 3.0) * pi * (rad**3)\n",
    "'''\n",
    "\n",
    "circle = open('won.py', 'w')\n",
    "circle.write(won)\n",
    "circle.close()"
   ]
  },
  {
   "cell_type": "code",
   "execution_count": null,
   "id": "71fd8e0c",
   "metadata": {},
   "outputs": [],
   "source": [
    "from won import *\n",
    "rad = int(input('반지름 : '))\n",
    "print('pi :', pi)\n",
    "print('둘  레 :', getArround(rad))\n",
    "print('면  적 :', getArea(rad))\n",
    "print('표면적 :', getSuf(rad))\n",
    "print('부  피 :', getVol(rad))\n",
    "#print('부  피 :', won.getVol(rad)) # 에러..."
   ]
  },
  {
   "cell_type": "code",
   "execution_count": null,
   "id": "0954329d",
   "metadata": {},
   "outputs": [],
   "source": [
    "print(pi)\n",
    "%reload_ext autoreload\n",
    "from won import *\n",
    "print(pi)"
   ]
  },
  {
   "cell_type": "code",
   "execution_count": null,
   "id": "a1f6ae0e",
   "metadata": {},
   "outputs": [],
   "source": [
    "from won import *\n",
    "print(pi)"
   ]
  },
  {
   "cell_type": "code",
   "execution_count": 1,
   "id": "1472aa00",
   "metadata": {},
   "outputs": [
    {
     "name": "stdout",
     "output_type": "stream",
     "text": [
      "314.159\n",
      "************\n"
     ]
    }
   ],
   "source": [
    "import won\n",
    "\n",
    "print('************')"
   ]
  }
 ],
 "metadata": {
  "kernelspec": {
   "display_name": "Python 3 (ipykernel)",
   "language": "python",
   "name": "python3"
  },
  "language_info": {
   "codemirror_mode": {
    "name": "ipython",
    "version": 3
   },
   "file_extension": ".py",
   "mimetype": "text/x-python",
   "name": "python",
   "nbconvert_exporter": "python",
   "pygments_lexer": "ipython3",
   "version": "3.9.15"
  }
 },
 "nbformat": 4,
 "nbformat_minor": 5
}
