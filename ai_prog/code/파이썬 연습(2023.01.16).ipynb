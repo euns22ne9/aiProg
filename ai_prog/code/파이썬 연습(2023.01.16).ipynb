{
 "cells": [
  {
   "cell_type": "code",
   "execution_count": null,
   "metadata": {},
   "outputs": [],
   "source": [
    "def f(x):\n",
    "    def g():\n",
    "        x = 'abc'\n",
    "        print('x :', x)\n",
    "    def h():\n",
    "        z = x\n",
    "        print('z :', z)\n",
    "    x = x + 1\n",
    "    print('x :', x)\n",
    "    h()\n",
    "    g()\n",
    "    print('x :', x)\n",
    "    return g\n",
    "\n",
    "x = 3\n",
    "z = f(x)\n",
    "print('x :', x)\n",
    "print('z :', z)\n",
    "z()"
   ]
  },
  {
   "cell_type": "code",
   "execution_count": null,
   "metadata": {},
   "outputs": [],
   "source": [
    "num = 10\n",
    "\n",
    "\n",
    "def printNo():\n",
    "    global num\n",
    "    num = 100\n",
    "    print('printNo() num :', num)\n",
    "\n",
    "printNo()\n",
    "print('num :', num)"
   ]
  },
  {
   "cell_type": "code",
   "execution_count": null,
   "metadata": {},
   "outputs": [],
   "source": [
    "num = int(input('양수를 입력하세요! : '))\n",
    "\n",
    "try:\n",
    "    assert (num > 0), '양수만 입력할 수 있습니다.'\n",
    "except AssertionError as ae:\n",
    "    print(ae)\n",
    "    "
   ]
  },
  {
   "cell_type": "code",
   "execution_count": null,
   "metadata": {},
   "outputs": [],
   "source": [
    "class MyException(Exception):\n",
    "    pass\n",
    "\n",
    "try:\n",
    "    raise MyException('내가 정의한 에러...!')\n",
    "except MyException as me:\n",
    "    print(me)"
   ]
  },
  {
   "cell_type": "code",
   "execution_count": null,
   "metadata": {},
   "outputs": [],
   "source": [
    "import sys\n",
    "\n",
    "sys.setrecursionlimit(999999999)\n",
    "\n",
    "def getSum(no):\n",
    "    if no == 0:\n",
    "        return 0\n",
    "    \n",
    "    return no + getSum(no - 1)\n",
    "\n",
    "sum = getSum(10000)\n",
    "print(sum)"
   ]
  },
  {
   "cell_type": "code",
   "execution_count": null,
   "metadata": {},
   "outputs": [],
   "source": [
    "import sys\n",
    "sys.setrecursionlimit(99999999)\n",
    "\n",
    "def getPi(cnt):\n",
    "    if cnt == 0:\n",
    "        return 4\n",
    "    \n",
    "    return (-1)**cnt * 4 / (2 * cnt + 1) + getPi(cnt - 1)\n",
    "\n",
    "cnt = 30000 # 최대값은??? 왜 제한 해뒀나???\n",
    "print('getPi(' + str(cnt) + ') :', getPi(cnt))"
   ]
  },
  {
   "cell_type": "code",
   "execution_count": null,
   "metadata": {},
   "outputs": [],
   "source": [
    "while True:\n",
    "    try:\n",
    "        age = int(input('나이를 입력하세요 : '))\n",
    "        print('입력하신 나이는 다음과 같습니다.', age)\n",
    "        break\n",
    "    except ValueError:\n",
    "        print('### 입력이 잘못되었습니다. ###')\n",
    "\n",
    "print('\\n***** 프로그램을 종료합니다. *****')"
   ]
  },
  {
   "cell_type": "code",
   "execution_count": null,
   "metadata": {},
   "outputs": [],
   "source": [
    "ages = [1, 2, 3]\n",
    "while True:\n",
    "    try:\n",
    "        age = int(input('나이를 입력하세요 : '))\n",
    "        # ages[3] = age # 인덱스에러 발생...\n",
    "        if age == 29:\n",
    "            raise Exception('알 수 없는 에러...!')\n",
    "        divide = 100 / age\n",
    "        print('입력하신 나이는 다음과 같습니다.', age)\n",
    "        break\n",
    "    except ValueError:\n",
    "        print('### 입력이 잘못되었습니다. ###')\n",
    "    except ZeroDivisionError:\n",
    "        print('### 0 세는 잘못된 나이입니다. Zero Divided Error ###')\n",
    "    except IndexError:\n",
    "        print('### index error 입니다. ###')\n",
    "    except:\n",
    "        print('##### 알 수 없는 에러입니다. #####')\n",
    "\n",
    "print('\\n***** 프로그램을 종료합니다. *****')"
   ]
  },
  {
   "cell_type": "code",
   "execution_count": 4,
   "metadata": {},
   "outputs": [
    {
     "name": "stdout",
     "output_type": "stream",
     "text": [
      "[1.0, 1.0, nan, 2.0]\n",
      "[]\n",
      "getRatios called with bad arguments\n"
     ]
    }
   ],
   "source": [
    "def getRatios(vect1, vect2):\n",
    "    ratios = []\n",
    "    \n",
    "    for index in range(len(vect1)):\n",
    "        try:\n",
    "            ratios.append(vect1[index] / float(vect2[index]))\n",
    "        except ZeroDivisionError:\n",
    "            ratios.append(float('nan'))\n",
    "        except:\n",
    "            raise ValueError('getRatios called with bad arguments')\n",
    "    \n",
    "    return ratios\n",
    "\n",
    "try:\n",
    "    print(getRatios([1.0, 2.0, 7.0, 6.0], [1.0, 2.0, 0.0, 3.0]))\n",
    "    print(getRatios([], []))\n",
    "    print(getRatios([1.0, 2.0], [3.0]))\n",
    "except ValueError as ve:\n",
    "    print(ve)"
   ]
  },
  {
   "cell_type": "code",
   "execution_count": 5,
   "metadata": {},
   "outputs": [
    {
     "name": "stdout",
     "output_type": "stream",
     "text": [
      "x : 4\n",
      "z : 4\n",
      "x : 3\n",
      "y : 2\n"
     ]
    }
   ],
   "source": [
    "def f(x):\n",
    "    y = 1\n",
    "    x = x + y\n",
    "    print('x :', x)\n",
    "    return x\n",
    "\n",
    "x = 3\n",
    "y = 2\n",
    "z = f(x)\n",
    "print('z :', z)\n",
    "print('x :', x)\n",
    "print('y :', y)"
   ]
  },
  {
   "cell_type": "code",
   "execution_count": null,
   "metadata": {},
   "outputs": [],
   "source": [
    "R = int(input('R 입력 : '))\n",
    "p = int(input('p 입력 : '))\n",
    "n = int(input('n 입력 : '))\n",
    "\n",
    "N = R * p * n"
   ]
  },
  {
   "cell_type": "code",
   "execution_count": 9,
   "metadata": {},
   "outputs": [
    {
     "name": "stdout",
     "output_type": "stream",
     "text": [
      "[(3, 4, 5), (4, 3, 5), (5, 12, 13), (6, 8, 10), (7, 24, 25), (8, 6, 10), (8, 15, 17), (9, 12, 15), (10, 24, 26), (12, 5, 13), (12, 9, 15), (12, 16, 20), (15, 8, 17), (15, 20, 25), (16, 12, 20), (18, 24, 30), (20, 15, 25), (20, 21, 29), (21, 20, 29), (24, 7, 25), (24, 10, 26), (24, 18, 30)]\n"
     ]
    }
   ],
   "source": [
    "tri = []\n",
    "for x in range(1,31):\n",
    "    for y in range(1, 31):\n",
    "        for z in range(1, 31):\n",
    "            if x ** 2 + y ** 2 == z ** 2:\n",
    "                tri.append((x, y, z))\n",
    "print(tri)"
   ]
  },
  {
   "cell_type": "code",
   "execution_count": 18,
   "metadata": {},
   "outputs": [
    {
     "name": "stdout",
     "output_type": "stream",
     "text": [
      "숫자 입력 : 50\n",
      "입력한 숫자가 작습니다.\n",
      "숫자 입력 : 70\n",
      "입력한 숫자가 작습니다.\n",
      "숫자 입력 : 80\n",
      "입력한 숫자가 작습니다.\n",
      "숫자 입력 : 90\n",
      "입력한 숫자가 큽니다.\n",
      "숫자 입력 : 85\n",
      "입력한 숫자가 작습니다.\n",
      "숫자 입력 : 87\n",
      "입력한 숫자가 작습니다.\n",
      "숫자 입력 : 89\n",
      "입력한 숫자가 큽니다.\n",
      "숫자 입력 : 88\n",
      "*** 입력한 숫자 88 이 찾는 숫자 88 이 맞습니다. ***\n"
     ]
    }
   ],
   "source": [
    "# guess Number\n",
    "import random as rd\n",
    "\n",
    "guessNum = rd.randint(1, 100)\n",
    "\n",
    "while True:\n",
    "    num = int(input('숫자 입력 : '))\n",
    "    if num > guessNum:\n",
    "        print('입력한 숫자가 큽니다.')\n",
    "    elif num < guessNum:\n",
    "        print('입력한 숫자가 작습니다.')\n",
    "    else:\n",
    "        print('*** 입력한 숫자', num, '이 찾는 숫자', guessNum, '이 맞습니다. ***')\n",
    "        break"
   ]
  }
 ],
 "metadata": {
  "kernelspec": {
   "display_name": "Python 3",
   "language": "python",
   "name": "python3"
  },
  "language_info": {
   "codemirror_mode": {
    "name": "ipython",
    "version": 3
   },
   "file_extension": ".py",
   "mimetype": "text/x-python",
   "name": "python",
   "nbconvert_exporter": "python",
   "pygments_lexer": "ipython3",
   "version": "3.8.5"
  }
 },
 "nbformat": 4,
 "nbformat_minor": 4
}
