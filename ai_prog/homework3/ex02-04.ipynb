{
 "cells": [
  {
   "cell_type": "code",
   "execution_count": 4,
   "metadata": {},
   "outputs": [
    {
     "name": "stdout",
     "output_type": "stream",
     "text": [
      "계산횟수 입력 : 10000000\n",
      "******************** 파이 값 ********************\n",
      "         초기값 :  4.0\n",
      "        1 번째 :  2.666666666666667\n",
      "        2 번째 :  3.466666666666667\n",
      "        3 번째 :  2.8952380952380956\n",
      "        4 번째 :  3.3396825396825403\n",
      "---------------------- 중   략 --------------------\n",
      "  9999996 번째 :  3.1415927535898214\n",
      "  9999997 번째 :  3.1415925535897715\n",
      "  9999998 번째 :  3.1415927535898014\n",
      "  9999999 번째 :  3.1415925535897915\n",
      " 10000000 번째 :  3.1415927535897814\n"
     ]
    }
   ],
   "source": [
    "# 회차 입력받아서 파이값 계산 해서 출력해주는 함수\n",
    "def getPi(cnt = 10000):\n",
    "    # 파이값 기억 변수 선언 및 초기화\n",
    "    pi = 0\n",
    "    print('*' * 20, '파이 값', '*' * 20)\n",
    "    for n in range(0, cnt + 1):\n",
    "        pi = pi + ((-1) ** n * 4 / (2 * n + 1))\n",
    "        if n < 5 or n > cnt - 5:\n",
    "            if n == 0:\n",
    "                print('%12s : ' % ('초기값'), pi)\n",
    "            else :\n",
    "                print('%12s : ' % (str(n) + ' 번째'), pi)\n",
    "        elif n == 5:\n",
    "            print('-'* 22, '중   략', '-' * 20)\n",
    "\n",
    "getPi(int(input('계산횟수 입력 : ')))"
   ]
  },
  {
   "cell_type": "code",
   "execution_count": 5,
   "metadata": {},
   "outputs": [
    {
     "name": "stdout",
     "output_type": "stream",
     "text": [
      "[(3, 4, 5), (4, 3, 5), (5, 12, 13), (6, 8, 10), (7, 24, 25), (8, 6, 10), (8, 15, 17), (9, 12, 15), (10, 24, 26), (12, 5, 13), (12, 9, 15), (12, 16, 20), (15, 8, 17), (15, 20, 25), (16, 12, 20), (18, 24, 30), (20, 15, 25), (20, 21, 29), (21, 20, 29), (24, 7, 25), (24, 10, 26), (24, 18, 30)]\n"
     ]
    }
   ],
   "source": [
    "# 피타고라스 정리를 만족하는 조합들의 리스트를 반환해주는 함수\n",
    "def getTri():\n",
    "    # 조합을 기억할 리스트\n",
    "    resultList = []\n",
    "    # x를 1부터 30까지 증가시킨다.\n",
    "    for x in range(1,31):\n",
    "        # y를 1부터 30까지 증가시킨다.\n",
    "        for y in range(1, 31):\n",
    "            # z 를 1부터 30까지 증가시킨다.\n",
    "            for z in range(1, 31):\n",
    "                # 피타고라스 정리에 맞는 경우 리스트에 추가해준다.\n",
    "                if z**2 == x**2 + y**2:\n",
    "                    resultList.append((x, y, z))\n",
    "    # 리스트를 반환해준다.\n",
    "    return resultList\n",
    "\n",
    "# 함수 호출\n",
    "result = getTri()\n",
    "# 결과 출력\n",
    "print(result)"
   ]
  },
  {
   "cell_type": "code",
   "execution_count": 6,
   "metadata": {},
   "outputs": [
    {
     "name": "stdout",
     "output_type": "stream",
     "text": [
      "100 번 던졌을 때 평균 : 0.5445544554455446\n",
      "1000 번 던졌을 때 평균 : 0.5174825174825175\n",
      "10000 번 던졌을 때 평균 : 0.49745025497450257\n"
     ]
    }
   ],
   "source": [
    "# 모듈 임포트\n",
    "import random\n",
    "\n",
    "# 함수 정의\n",
    "def coin():\n",
    "    if random.random() < 0.5:\n",
    "        return 1    # 앞면\n",
    "    return 0        # 뒷면\n",
    "\n",
    "# 앞면이 나오는 평균 반환해주는 함수\n",
    "def getMean(n):\n",
    "    # 반복 회차를 입력해서 실행하도록 한다.\n",
    "    \n",
    "    # 총 합을 누적할 변수\n",
    "    sum = 0\n",
    "    # 회차만큼 반복해서 누적한다.\n",
    "    for i in range(n):\n",
    "        sum = sum + coin()\n",
    "    # 평균을 구해서 반환해준다.\n",
    "    return sum / (n + 1)\n",
    "\n",
    "# 함수를 호출해서 출력한다.\n",
    "print('100 번 던졌을 때 평균 :', getMean(100))\n",
    "print('1000 번 던졌을 때 평균 :', getMean(1000))\n",
    "print('10000 번 던졌을 때 평균 :', getMean(10000))"
   ]
  }
 ],
 "metadata": {
  "kernelspec": {
   "display_name": "Python 3 (ipykernel)",
   "language": "python",
   "name": "python3"
  },
  "language_info": {
   "codemirror_mode": {
    "name": "ipython",
    "version": 3
   },
   "file_extension": ".py",
   "mimetype": "text/x-python",
   "name": "python",
   "nbconvert_exporter": "python",
   "pygments_lexer": "ipython3",
   "version": "3.9.13"
  }
 },
 "nbformat": 4,
 "nbformat_minor": 4
}
