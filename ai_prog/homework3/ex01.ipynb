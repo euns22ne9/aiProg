{
 "cells": [
  {
   "cell_type": "code",
   "execution_count": null,
   "metadata": {},
   "outputs": [
    {
     "name": "stdout",
     "output_type": "stream",
     "text": [
      "============================================================\n",
      "Drake 가 사용한 값의 결과              : d\n",
      "입력한 값으로 계산                     : i\n",
      "프로그램 종 료                        : q\n",
      "------------------------------------------------------------\n",
      "코드를 입력하세요.                     : d\n",
      "============================================================\n",
      "************************************************************\n",
      "************ 1961년 Drake 가 사용한 값의 결과 : 10.0 ************\n",
      "************************************************************\n",
      "============================================================\n"
     ]
    }
   ],
   "source": [
    "# 드레이크 방정식 결과값 반환 함수\n",
    "def getDrake(R = 10, p = 0.5 , n = 2, f = 1, i = 0.01, c = 0.01, L = 10000):\n",
    "    # 드레이크가 1961년 사용한 값으로 초기값 셋팅\n",
    "    return R * p * n * f * i * c * L\n",
    "\n",
    "# 데이터를 입력받아 드레이크 방정식의 결과를 출력해주는 함수\n",
    "def input_calc_drake():\n",
    "    print('* 질문의 값을 입력하세요!', end='\\n\\n')\n",
    "    R = int(input('우리 은하 안에서 1년동안 탄생하는 항성의 수 (R = 7)\\n: '))\n",
    "    p = float(input('항성이 행성을 갖고 있을 확룰 (p = 0.5)\\n: '))\n",
    "    n = int(input('행성들 중에서 생명체가 살 수 있는 조건을 갖춘 행성의 수 (n = 2)\\n: '))\n",
    "    f = float(input('조건을 갖춘 행성에서 실제로 생명체가 탄생할 행성의 비율 (f = 1)\\n: '))\n",
    "    i = float(input('탄생한 생명체가 외부와 교신할 기술을 갖고 있을 비율 (i = 0.01)\\n: '))\n",
    "    c = float(input('지적 생명체가 외부와 교신할 기술을 갖고 있을 비율 (c = 0.01)\\n: '))\n",
    "    L = int(input('통신 기술을 가진 생명체가 존속할 수 있는 기간 (L=10000)\\n: '))\n",
    "    count = getDrake(R, p, n, f, i, c, L)\n",
    "    print('=' * 60)\n",
    "    print('####### 입력받은 값을 사용한 방정식 결과 :', count, '#######')\n",
    "    print('=' * 60)\n",
    "\n",
    "# 반복해서 처리\n",
    "while True:\n",
    "    print('=' * 60)\n",
    "    code = input('%-30s : d\\n%-30s : i\\n%-31s : q\\n%-60s\\n%-30s : ' % (\n",
    "                                                                        'Drake 가 사용한 값의 결과', \n",
    "                                                                        '입력한 값으로 계산', \n",
    "                                                                        '프로그램 종 료',\n",
    "                                                                        ('-' * 60), \n",
    "                                                                        '코드를 입력하세요.'\n",
    "                                                                      )\n",
    "                )\n",
    "    print('=' * 60)\n",
    "    if code == 'd': # 드레이크가 사용한 값의 결과 출력\n",
    "        count = getDrake()\n",
    "        print('*' * 60)\n",
    "        print('************ 1961년 Drake 가 사용한 값의 결과 :', count, '************')\n",
    "        print('*' * 60)\n",
    "    elif code == 'i' : # 값을 입력받아 결과 출력\n",
    "        input_calc_drake()\n",
    "    elif code == 'q': # 프로그램 종료를 선택한 경우\n",
    "        print('### 프로그램을 종료합니다. ###')\n",
    "        print('=' * 60)\n",
    "        break\n",
    "    else : # 입력이 잘못된 경우\n",
    "        print('# 잘못된 코드입니다. 다시 입력하세요! #')\n"
   ]
  }
 ],
 "metadata": {
  "kernelspec": {
   "display_name": "Python 3",
   "language": "python",
   "name": "python3"
  },
  "language_info": {
   "codemirror_mode": {
    "name": "ipython",
    "version": 3
   },
   "file_extension": ".py",
   "mimetype": "text/x-python",
   "name": "python",
   "nbconvert_exporter": "python",
   "pygments_lexer": "ipython3",
   "version": "3.8.5"
  }
 },
 "nbformat": 4,
 "nbformat_minor": 4
}
